{
  "cells": [
    {
      "cell_type": "markdown",
      "metadata": {
        "id": "view-in-github",
        "colab_type": "text"
      },
      "source": [
        "<a href=\"https://colab.research.google.com/github/adithya70/Coursera-ML/blob/master/Copy_of_vgg19realfake.ipynb\" target=\"_parent\"><img src=\"https://colab.research.google.com/assets/colab-badge.svg\" alt=\"Open In Colab\"/></a>"
      ]
    },
    {
      "cell_type": "code",
      "execution_count": null,
      "metadata": {
        "id": "yPPAYn2KjwgL"
      },
      "outputs": [],
      "source": [
        "# This Python 3 environment comes with many helpful analytics libraries installed\n",
        "# It is defined by the kaggle/python Docker image: https://github.com/kaggle/docker-python\n",
        "# For example, here's several helpful packages to load\n",
        "\n",
        "import numpy as np # linear algebra\n",
        "import pandas as pd # data processing, CSV file I/O (e.g. pd.read_csv)\n",
        "\n",
        "# Input data files are available in the read-only \"../input/\" directory\n",
        "# For example, running this (by clicking run or pressing Shift+Enter) will list all files under the input directory\n",
        "\n",
        "import os\n",
        "\n",
        "\n",
        "# You can write up to 20GB to the current directory (/kaggle/working/) that gets preserved as output when you create a version using \"Save & Run All\" \n",
        "# You can also write temporary files to /kaggle/temp/, but they won't be saved outside of the current session"
      ]
    },
    {
      "cell_type": "code",
      "execution_count": 5,
      "metadata": {
        "colab": {
          "base_uri": "https://localhost:8080/"
        },
        "id": "W3ZhQA6Wj8Z0",
        "outputId": "5406524d-aed7-4882-d974-9d59b21e6e71"
      },
      "outputs": [
        {
          "output_type": "stream",
          "name": "stdout",
          "text": [
            "Mounted at /content/drive\n"
          ]
        }
      ],
      "source": [
        "from google.colab import drive\n",
        "drive.mount('/content/drive')"
      ]
    },
    {
      "cell_type": "code",
      "execution_count": 1,
      "metadata": {
        "id": "dgJ_AEgvjwgN"
      },
      "outputs": [],
      "source": [
        "import numpy as np\n",
        "import pandas as pd\n",
        "\n",
        "import tensorflow as tf\n",
        "\n",
        "from tensorflow.keras.optimizers import Adam\n",
        "\n",
        "\n",
        "\n",
        "import matplotlib\n",
        "#matplotlib.use(\"Agg\")\n",
        "\n",
        "# import the necessary packages\n",
        "from tensorflow.keras.preprocessing.image import ImageDataGenerator\n",
        "\n",
        "from tensorflow.keras.applications.resnet import ResNet50\n",
        "\n",
        "from tensorflow.keras.layers import Input\n",
        "from tensorflow.keras.models import Model\n",
        "from tensorflow.keras.optimizers import SGD\n",
        "from tensorflow.keras.layers import AveragePooling2D, Dropout, Flatten, Dense\n",
        "#from sklearn.preprocessing import LabelBinarizer\n",
        "from sklearn.model_selection import train_test_split\n",
        "from sklearn.metrics import classification_report\n",
        "#from imutils import paths\n",
        "import matplotlib.pyplot as plt\n",
        "import numpy as np\n",
        "import argparse\n",
        "import pickle\n",
        "import cv2\n",
        "import os\n",
        "from sklearn.metrics import confusion_matrix\n",
        "from sklearn.utils.multiclass import unique_labels\n",
        "from tqdm.notebook import tqdm_notebook as tqdm\n",
        "\n",
        "import os"
      ]
    },
    {
      "cell_type": "code",
      "execution_count": 6,
      "metadata": {
        "id": "Iu4BtgY0jwgO"
      },
      "outputs": [],
      "source": [
        "\n",
        "real = \"/content/drive/MyDrive/Celebrity Dataset/Original\"\n",
        "fake = \"/content/drive/MyDrive/Celebrity Dataset/adversarials\"\n",
        "\n",
        "real_path = os.listdir(real)\n",
        "fake_path = os.listdir(fake)"
      ]
    },
    {
      "cell_type": "code",
      "execution_count": 9,
      "metadata": {
        "id": "kbXyqlxzjwgP"
      },
      "outputs": [],
      "source": [
        "from skimage.transform import resize\n",
        "\n",
        "X=[]\n",
        "Y=[]\n",
        "for img in os.listdir(real):\n",
        "\n",
        "    d=plt.imread(os.path.join(real,img))\n",
        "    d1 = resize(d, (400, 400))\n",
        "  \n",
        "    X.append(d1)\n",
        "    Y.append(0)\n",
        "real_array = np.stack(X, axis=0)    \n",
        "    \n",
        "X1=[]\n",
        "Y1=[]\n",
        "for img in os.listdir(fake):\n",
        "    f=plt.imread(os.path.join(fake,img))\n",
        "    f1 = resize(f, (400, 400))\n",
        "\n",
        "   \n",
        "    X1.append(f1)\n",
        "    Y1.append(1)    \n",
        "fake_array=np.stack(X1, axis=0)    "
      ]
    },
    {
      "cell_type": "code",
      "execution_count": 10,
      "metadata": {
        "id": "tPYsv9OIjwgP"
      },
      "outputs": [],
      "source": [
        "X=np.array([])\n",
        "X1=np.array([])\n",
        "Y=np.array([])\n",
        "Y1=np.array([])\n",
        "# real_labels=np.array([])\n",
        "# fake_labels=np.array([])"
      ]
    },
    {
      "cell_type": "code",
      "execution_count": 11,
      "metadata": {
        "colab": {
          "base_uri": "https://localhost:8080/"
        },
        "id": "TnmHHRV9jwgP",
        "outputId": "a5fc75a8-6243-4fbb-8c24-e159136e9a38"
      },
      "outputs": [
        {
          "output_type": "stream",
          "name": "stdout",
          "text": [
            "(2560, 400, 400, 3) (2406, 400, 400, 3)\n"
          ]
        }
      ],
      "source": [
        "print(real_array.shape,fake_array.shape)\n",
        "real_labels=np.zeros((2560,), dtype=int)\n",
        "fake_labels=np.ones((2406,), dtype=int)"
      ]
    },
    {
      "cell_type": "markdown",
      "metadata": {
        "id": "df0FLvuSjwgP"
      },
      "source": [
        ""
      ]
    },
    {
      "cell_type": "code",
      "execution_count": 12,
      "metadata": {
        "id": "cJvIb7iKjwgQ"
      },
      "outputs": [],
      "source": [
        "X=np.concatenate((fake_array,real_array),axis=0)\n",
        "Y=np.concatenate((fake_labels,real_labels),axis=0)"
      ]
    },
    {
      "cell_type": "code",
      "execution_count": null,
      "metadata": {
        "id": "9EyDAxgRjwgR"
      },
      "outputs": [],
      "source": [
        ""
      ]
    },
    {
      "cell_type": "code",
      "execution_count": 13,
      "metadata": {
        "colab": {
          "base_uri": "https://localhost:8080/"
        },
        "id": "y-8ff_5cjwgR",
        "outputId": "a0a8c0a9-5059-45f7-b4c6-75dc68cc9072"
      },
      "outputs": [
        {
          "output_type": "execute_result",
          "data": {
            "text/plain": [
              "((4966, 400, 400, 3), (4966,))"
            ]
          },
          "metadata": {},
          "execution_count": 13
        }
      ],
      "source": [
        "X.shape,Y.shape"
      ]
    },
    {
      "cell_type": "code",
      "execution_count": null,
      "metadata": {
        "id": "sUYVGno9jwgR"
      },
      "outputs": [],
      "source": [
        ""
      ]
    },
    {
      "cell_type": "code",
      "execution_count": 14,
      "metadata": {
        "id": "3TRHdqgZjwgS"
      },
      "outputs": [],
      "source": [
        "real_array=np.array([])\n",
        "fake_array=np.array([])\n",
        "real_labels=np.array([])\n",
        "fake_labels=np.array([])"
      ]
    },
    {
      "cell_type": "code",
      "execution_count": 10,
      "metadata": {
        "colab": {
          "base_uri": "https://localhost:8080/"
        },
        "id": "F4JC3L2rjwgS",
        "outputId": "b14fe413-a486-44e6-a804-838673fe2cde"
      },
      "outputs": [
        {
          "output_type": "execute_result",
          "data": {
            "text/plain": [
              "(4966, 450, 450, 3)"
            ]
          },
          "metadata": {},
          "execution_count": 10
        }
      ],
      "source": [
        "X.shape"
      ]
    },
    {
      "cell_type": "code",
      "execution_count": 11,
      "metadata": {
        "colab": {
          "base_uri": "https://localhost:8080/"
        },
        "id": "eDzDmI0zlWQj",
        "outputId": "d92aa379-4123-4749-f847-cf932a9eb239"
      },
      "outputs": [
        {
          "output_type": "execute_result",
          "data": {
            "text/plain": [
              "(4966,)"
            ]
          },
          "metadata": {},
          "execution_count": 11
        }
      ],
      "source": [
        "Y.shape"
      ]
    },
    {
      "cell_type": "code",
      "execution_count": 15,
      "metadata": {
        "id": "lc532BokjwgS"
      },
      "outputs": [],
      "source": [
        "from sklearn.model_selection import train_test_split \n",
        "x_train, x_test, y_train, y_test = train_test_split(X,Y, test_size=0.20, stratify=Y)"
      ]
    },
    {
      "cell_type": "code",
      "execution_count": null,
      "metadata": {
        "id": "Ofp-nnjJjwgS"
      },
      "outputs": [],
      "source": [
        "plt.imshow(X[-1])"
      ]
    },
    {
      "cell_type": "code",
      "execution_count": 33,
      "metadata": {
        "colab": {
          "base_uri": "https://localhost:8080/"
        },
        "id": "fLbpbr9cjwgS",
        "outputId": "00e78b62-720f-4029-97d8-36315e325bd4"
      },
      "outputs": [
        {
          "output_type": "execute_result",
          "data": {
            "text/plain": [
              "(3972,)"
            ]
          },
          "metadata": {},
          "execution_count": 33
        }
      ],
      "source": [
        "y_train.shape"
      ]
    },
    {
      "cell_type": "code",
      "execution_count": 16,
      "metadata": {
        "id": "LsQ5e0jRjwgS"
      },
      "outputs": [],
      "source": [
        "X=np.array([])\n",
        "Y=np.array([])"
      ]
    },
    {
      "cell_type": "code",
      "execution_count": 17,
      "metadata": {
        "id": "JCGWcUgbjwgT"
      },
      "outputs": [],
      "source": [
        "from tensorflow.keras.applications.vgg19 import VGG19\n",
        "\n",
        "from tensorflow.keras.layers import Input\n",
        "from tensorflow.keras.models import Model\n",
        "from tensorflow.keras.optimizers import SGD\n",
        "from tensorflow.keras.layers import AveragePooling2D, Dropout, Flatten, Dense"
      ]
    },
    {
      "cell_type": "code",
      "execution_count": 18,
      "metadata": {
        "id": "b6XX8OmQjwgT",
        "colab": {
          "base_uri": "https://localhost:8080/"
        },
        "outputId": "e2caa662-7d12-4ca5-9a28-775151c7e3e5"
      },
      "outputs": [
        {
          "output_type": "stream",
          "name": "stdout",
          "text": [
            "Downloading data from https://storage.googleapis.com/tensorflow/keras-applications/vgg19/vgg19_weights_tf_dim_ordering_tf_kernels_notop.h5\n",
            "80142336/80134624 [==============================] - 1s 0us/step\n",
            "80150528/80134624 [==============================] - 1s 0us/step\n"
          ]
        }
      ],
      "source": [
        "baseModel = VGG19(weights=\"imagenet\", include_top=False,\n",
        "\tinput_tensor=Input(shape=(400, 400, 3)))\n",
        "\n",
        "for layer in baseModel.layers:\n",
        "\tlayer.trainable = False\n",
        "\n",
        "\n",
        "headModel = baseModel.output\n",
        "headModel = Flatten(name=\"flatten\")(headModel)\n",
        "headModel = Dense(128, activation=\"relu\" ,kernel_initializer='he_uniform')(headModel)\n",
        "\n",
        "headModel = Dense(1, activation=\"sigmoid\")(headModel)\n",
        "\n",
        "\n",
        "model = Model(inputs=baseModel.input, outputs=headModel)"
      ]
    },
    {
      "cell_type": "code",
      "source": [
        ""
      ],
      "metadata": {
        "id": "b01T7NLDk75I"
      },
      "execution_count": null,
      "outputs": []
    },
    {
      "cell_type": "code",
      "execution_count": 19,
      "metadata": {
        "colab": {
          "base_uri": "https://localhost:8080/"
        },
        "id": "0BETOsYnjwgT",
        "outputId": "e77b2c08-ba25-486e-c082-4b43e9ce94eb"
      },
      "outputs": [
        {
          "output_type": "stream",
          "name": "stdout",
          "text": [
            "[INFO] compiling model...\n",
            "[INFO] training head...\n",
            "Epoch 1/15\n",
            "124/124 [==============================] - 44s 240ms/step - loss: 4.5181 - accuracy: 0.8405 - val_loss: 0.1917 - val_accuracy: 0.9486\n",
            "Epoch 2/15\n",
            "124/124 [==============================] - 29s 230ms/step - loss: 0.0584 - accuracy: 0.9779 - val_loss: 0.1118 - val_accuracy: 0.9677\n",
            "Epoch 3/15\n",
            "124/124 [==============================] - 28s 230ms/step - loss: 0.0172 - accuracy: 0.9942 - val_loss: 0.0426 - val_accuracy: 0.9819\n",
            "Epoch 4/15\n",
            "124/124 [==============================] - 28s 230ms/step - loss: 0.0033 - accuracy: 0.9992 - val_loss: 0.0643 - val_accuracy: 0.9798\n",
            "Epoch 5/15\n",
            "124/124 [==============================] - 28s 229ms/step - loss: 0.0014 - accuracy: 1.0000 - val_loss: 0.0337 - val_accuracy: 0.9879\n",
            "Epoch 6/15\n",
            "124/124 [==============================] - 28s 230ms/step - loss: 7.3853e-04 - accuracy: 1.0000 - val_loss: 0.0387 - val_accuracy: 0.9839\n",
            "Epoch 7/15\n",
            "124/124 [==============================] - 28s 229ms/step - loss: 5.4082e-04 - accuracy: 1.0000 - val_loss: 0.0354 - val_accuracy: 0.9859\n",
            "Epoch 8/15\n",
            "124/124 [==============================] - 29s 231ms/step - loss: 4.6132e-04 - accuracy: 1.0000 - val_loss: 0.0384 - val_accuracy: 0.9839\n",
            "Epoch 9/15\n",
            "124/124 [==============================] - 28s 230ms/step - loss: 3.8905e-04 - accuracy: 1.0000 - val_loss: 0.0375 - val_accuracy: 0.9849\n",
            "Epoch 10/15\n",
            "124/124 [==============================] - 28s 230ms/step - loss: 3.5140e-04 - accuracy: 1.0000 - val_loss: 0.0403 - val_accuracy: 0.9829\n",
            "Epoch 11/15\n",
            "124/124 [==============================] - 28s 230ms/step - loss: 2.8835e-04 - accuracy: 1.0000 - val_loss: 0.0331 - val_accuracy: 0.9869\n",
            "Epoch 12/15\n",
            "124/124 [==============================] - 28s 230ms/step - loss: 2.8311e-04 - accuracy: 1.0000 - val_loss: 0.0375 - val_accuracy: 0.9849\n",
            "Epoch 13/15\n",
            "124/124 [==============================] - 28s 230ms/step - loss: 2.2449e-04 - accuracy: 1.0000 - val_loss: 0.0352 - val_accuracy: 0.9869\n",
            "Epoch 14/15\n",
            "124/124 [==============================] - 28s 230ms/step - loss: 2.0920e-04 - accuracy: 1.0000 - val_loss: 0.0362 - val_accuracy: 0.9869\n",
            "Epoch 15/15\n",
            "124/124 [==============================] - 29s 230ms/step - loss: 1.7773e-04 - accuracy: 1.0000 - val_loss: 0.0377 - val_accuracy: 0.9849\n"
          ]
        }
      ],
      "source": [
        "print(\"[INFO] compiling model...\")\n",
        "opt = tf.keras.optimizers.Adam(learning_rate=0.01)\n",
        "#opt = tf.keras.optimizers.SGD(learning_rate=0.01,momentum=0.9)\n",
        "model.compile(loss=\"binary_crossentropy\", optimizer=opt,\n",
        "\tmetrics=[\"accuracy\"])\n",
        "print(\"[INFO] training head...\")\n",
        "H = model.fit(\n",
        "\t x_train,y_train,batch_size=32,\n",
        "                steps_per_epoch=3972//32,\n",
        "                epochs=15,\n",
        "                \n",
        "                validation_data=(x_test,y_test),\n",
        "                validation_steps=994//32)"
      ]
    },
    {
      "cell_type": "code",
      "execution_count": 20,
      "metadata": {
        "id": "9Z8PfW4rjwgT"
      },
      "outputs": [],
      "source": [
        "acc =H.history['accuracy']\n",
        "val_acc = H.history['val_accuracy']\n",
        "loss = H.history['loss']\n",
        "val_loss = H.history['val_loss']"
      ]
    },
    {
      "cell_type": "code",
      "execution_count": 21,
      "metadata": {
        "id": "wmLq0v1gjwgU",
        "colab": {
          "base_uri": "https://localhost:8080/",
          "height": 545
        },
        "outputId": "dca7c25f-e982-45dd-f487-e435633ce123"
      },
      "outputs": [
        {
          "output_type": "display_data",
          "data": {
            "text/plain": [
              "<Figure size 432x288 with 1 Axes>"
            ],
            "image/png": "[encoded data removed]"
          },
          "metadata": {
            "needs_background": "light"
          }
        },
        {
          "output_type": "display_data",
          "data": {
            "text/plain": [
              "<Figure size 432x288 with 1 Axes>"
            ],
            "image/png": "[encoded data removed]"
          },
          "metadata": {
            "needs_background": "light"
          }
        }
      ],
      "source": [
        "import matplotlib.pyplot as plt\n",
        "\n",
        "epochs = range(1, len(acc) + 1)\n",
        "\n",
        "plt.plot(epochs, acc, 'b', label='Training acc')\n",
        "plt.plot(epochs, val_acc, 'r', label='Validation acc')\n",
        "plt.title('Training and validation accuracy')\n",
        "plt.legend()\n",
        "\n",
        "plt.figure()\n",
        "\n",
        "plt.plot(epochs, loss, 'b', label='Training loss')\n",
        "plt.plot(epochs, val_loss, 'r', label='Validation loss')\n",
        "plt.title('Training and validation loss')\n",
        "plt.legend()\n",
        "\n",
        "plt.show()"
      ]
    },
    {
      "cell_type": "code",
      "execution_count": 23,
      "metadata": {
        "id": "LVvh_-7ujwgU"
      },
      "outputs": [],
      "source": [
        "model.save('best_vgg19_realfake_model.h5')"
      ]
    },
    {
      "cell_type": "code",
      "source": [
        "model.save_weights('best_vgg19_realfake_model_Weights')"
      ],
      "metadata": {
        "id": "8xdw7UBdUbnq"
      },
      "execution_count": 25,
      "outputs": []
    },
    {
      "cell_type": "code",
      "source": [
        "!zip -r ./best_vgg19_realfake_model.zip ./best_vgg19_realfake_model/"
      ],
      "metadata": {
        "colab": {
          "base_uri": "https://localhost:8080/"
        },
        "id": "YWbGOjRbTSYz",
        "outputId": "6c375f10-c10e-435a-f9f3-07c4af719903"
      },
      "execution_count": 24,
      "outputs": [
        {
          "output_type": "stream",
          "name": "stdout",
          "text": [
            "  adding: best_vgg19_realfake_model/ (stored 0%)\n",
            "  adding: best_vgg19_realfake_model/variables/ (stored 0%)\n",
            "  adding: best_vgg19_realfake_model/variables/variables.data-00000-of-00001 (deflated 30%)\n",
            "  adding: best_vgg19_realfake_model/variables/variables.index (deflated 69%)\n",
            "  adding: best_vgg19_realfake_model/keras_metadata.pb (deflated 95%)\n",
            "  adding: best_vgg19_realfake_model/saved_model.pb (deflated 91%)\n",
            "  adding: best_vgg19_realfake_model/assets/ (stored 0%)\n"
          ]
        }
      ]
    },
    {
      "cell_type": "code",
      "source": [
        "np.save('my_history.npy',H.history)"
      ],
      "metadata": {
        "id": "Mf-5su2-XGon"
      },
      "execution_count": 26,
      "outputs": []
    }
  ],
  "metadata": {
    "colab": {
      "collapsed_sections": [],
      "name": "Copy of vgg19realfake.ipynb",
      "provenance": [],
      "machine_shape": "hm",
      "include_colab_link": true
    },
    "kernelspec": {
      "display_name": "Python 3",
      "language": "python",
      "name": "python3"
    },
    "language_info": {
      "codemirror_mode": {
        "name": "ipython",
        "version": 3
      },
      "file_extension": ".py",
      "mimetype": "text/x-python",
      "name": "python",
      "nbconvert_exporter": "python",
      "pygments_lexer": "ipython3",
      "version": "3.7.12"
    },
    "accelerator": "GPU",
    "gpuClass": "standard"
  },
  "nbformat": 4,
  "nbformat_minor": 0
}